{
 "cells": [
  {
   "cell_type": "code",
   "execution_count": 2,
   "id": "446993c7",
   "metadata": {},
   "outputs": [
    {
     "name": "stderr",
     "output_type": "stream",
     "text": [
      "k:\\EthanAI\\ethan-ai-rag\\env\\Lib\\site-packages\\tqdm\\auto.py:21: TqdmWarning: IProgress not found. Please update jupyter and ipywidgets. See https://ipywidgets.readthedocs.io/en/stable/user_install.html\n",
      "  from .autonotebook import tqdm as notebook_tqdm\n"
     ]
    }
   ],
   "source": [
    "import os\n",
    "import logging\n",
    "from langchain.text_splitter import CharacterTextSplitter\n",
    "from langchain_openai.embeddings import OpenAIEmbeddings\n",
    "from langchain_core.documents import Document\n",
    "from google.cloud import documentai_v1beta3 as documentai\n",
    "from qdrant_client import QdrantClient, models\n",
    "from settings import env_settings\n",
    "from dotenv import load_dotenv\n",
    "\n",
    "load_dotenv()\n",
    "\n",
    "\n",
    "logger = logging.getLogger(__name__)\n",
    "\n",
    "QDRANT_URL = env_settings.QDRANT_URL\n",
    "QDRANT_API_KEY = env_settings.QDRANT_API_KEY\n",
    "OPENAI_API_KEY = env_settings.OPENAI_API_KEY\n",
    "GCP_PROJECT_ID = env_settings.GCP_PROJECT_ID\n",
    "GCP_LOCATION = env_settings.GCP_LOCATION\n",
    "GCP_PROCESSOR_ID = env_settings.GCP_PROCESSOR_ID\n",
    "GCP_PROCESSOR_VERSION = env_settings.GCP_PROCESSOR_VERSION\n",
    "\n",
    "os.environ[\"GOOGLE_APPLICATION_CREDENTIALS\"] = env_settings.GOOGLE_APPLICATION_CREDENTIALS\n",
    "\n",
    "\n",
    "class EthanRAG:\n",
    "    _qdrant_client: QdrantClient = None\n",
    "\n",
    "    def __init__(self):\n",
    "        if EthanRAG._qdrant_client is None:\n",
    "            EthanRAG._qdrant_client = self.connect_qdrant()\n",
    "\n",
    "    @staticmethod\n",
    "    def connect_qdrant() -> QdrantClient:\n",
    "        return QdrantClient(\n",
    "            api_key=QDRANT_API_KEY,\n",
    "            url=QDRANT_URL,\n",
    "        )\n",
    "\n",
    "    @staticmethod\n",
    "    async def extract_text_from_pdf(file_path: str) -> str:\n",
    "        try:\n",
    "            logger.info(f\"Processing with Google Document AI: {file_path}\")\n",
    "            client = documentai.DocumentProcessorServiceClient()\n",
    "            name = client.processor_version_path(\n",
    "                GCP_PROJECT_ID, GCP_LOCATION, GCP_PROCESSOR_ID, GCP_PROCESSOR_VERSION\n",
    "            )\n",
    "            with open(file_path, \"rb\") as pdf_file:\n",
    "                raw_document = documentai.RawDocument(\n",
    "                    content=pdf_file.read(), mime_type=\"application/pdf\"\n",
    "                )\n",
    "            request = documentai.ProcessRequest(\n",
    "                name=name,\n",
    "                raw_document=raw_document,\n",
    "                process_options=documentai.ProcessOptions(\n",
    "                    ocr_config=documentai.OcrConfig(\n",
    "                        enable_native_pdf_parsing=True)\n",
    "                ),\n",
    "            )\n",
    "            result = client.process_document(request=request)\n",
    "            document = result.document\n",
    "            extracted_text = document.text\n",
    "            return extracted_text\n",
    "        except Exception as e:\n",
    "            logger.error(f\"Error extracting text from PDF: {e}\")\n",
    "            raise e"
   ]
  },
  {
   "cell_type": "code",
   "execution_count": 3,
   "id": "ed3e7bf9",
   "metadata": {},
   "outputs": [],
   "source": [
    "ethan_rag = EthanRAG()\n",
    "\n",
    "text = await ethan_rag.extract_text_from_pdf(\n",
    "    file_path=\"K:\\\\EthanAI\\\\ethan-ai-rag\\\\uploads\\\\bala_monthly_report_dec_24-1-5.pdf\",\n",
    ")"
   ]
  },
  {
   "cell_type": "code",
   "execution_count": 9,
   "id": "1e8df4a6",
   "metadata": {},
   "outputs": [],
   "source": [
    "from llama_index.core.node_parser import SentenceWindowNodeParser\n",
    "from llama_index.core import Document"
   ]
  },
  {
   "cell_type": "code",
   "execution_count": 10,
   "id": "3781d5fa",
   "metadata": {},
   "outputs": [],
   "source": [
    "documents = [Document(text=text, metadata={\"filename\": \"bala_monthly_report_dec_24-1-5.pdf\"})]"
   ]
  },
  {
   "cell_type": "code",
   "execution_count": 6,
   "id": "8ec17fee",
   "metadata": {},
   "outputs": [],
   "source": [
    "node_parser = SentenceWindowNodeParser.from_defaults(window_size=3, window_metadata_key=\"window\")"
   ]
  },
  {
   "cell_type": "code",
   "execution_count": 11,
   "id": "6b57db36",
   "metadata": {},
   "outputs": [],
   "source": [
    "nodes = node_parser.get_nodes_from_documents(documents)"
   ]
  },
  {
   "cell_type": "code",
   "execution_count": 47,
   "id": "457e08e5",
   "metadata": {},
   "outputs": [],
   "source": [
    "final_response = \"\"\"\n",
    "Final Investment Recommendation\n",
    "Based on the comprehensive analysis of economic indicators, stock market performance, and overall economic stability, here is a summary of the investment potential for India, the USA, and China:\n",
    "India\n",
    "\n",
    "    Strengths: Highest GDP growth rate at 7.58%, indicating strong economic expansion and potential for high returns.\n",
    "    Challenges: High inflation rate at 6.95%, which could impact purchasing power and consumer spending.\n",
    "    Stock Market: Positive growth trajectory driven by infrastructure and private investment.\n",
    "\n",
    "USA\n",
    "\n",
    "    Strengths: Moderate inflation rate at 4.12% and the lowest unemployment rate at 3.63%, indicating a stable economic environment and strong labor market.\n",
    "    Challenges: Lower GDP growth rate at 2.54% compared to India and China.\n",
    "    Stock Market: Robust performance, particularly in technology, reflecting economic resilience.\n",
    "\n",
    "China\n",
    "\n",
    "    Strengths: Low inflation rate at 0.23%, suggesting a stable cost of living and strong purchasing power.\n",
    "    Challenges: Slightly higher unemployment rate at 5.2%, indicating some labor market challenges.\n",
    "    Stock Market: Signs of recovery and growth, with potential to outperform U.S. markets.\n",
    "\n",
    "Conclusion\n",
    "\n",
    "    India: Offers the highest growth potential but faces inflation challenges. Suitable for investors seeking high returns and willing to manage inflation risks.\n",
    "    USA: Provides a stable investment environment with moderate inflation and a strong labor market. Ideal for investors seeking stability and consistent returns.\n",
    "    China: Presents a stable economic environment with low inflation and promising stock market recovery. Suitable for investors looking for stability and growth potential.\n",
    "\n",
    "Recommendation\n",
    "\n",
    "    For High Growth Potential: Consider investing in India for its rapid economic expansion.\n",
    "    For Stability and Consistent Returns: The USA offers a balanced investment environment.\n",
    "    For Stability with Growth Potential: China provides a stable economic setting with promising market recovery.\n",
    "\n",
    "Investors should consider their risk tolerance, investment goals, and market conditions when making a decision. Diversifying investments across these markets could also be a strategic approach to balance risk and returns.\n",
    "\"\"\""
   ]
  },
  {
   "cell_type": "code",
   "execution_count": 48,
   "id": "db761593",
   "metadata": {},
   "outputs": [],
   "source": [
    "summary_prompt = f\"\"\"\n",
    "You are a podcast host summarizing a recent analysis. Create a concise, engaging summary (2-3 sentences) \n",
    "of the following content for a podcast audience. Use a friendly and conversational tone, \n",
    "and avoid technical jargon unless necessary also add some anecdotes or examples to make it funny and relatable: \n",
    "\n",
    "{final_response}\n",
    "\n",
    "Summary:\n",
    "\"\"\""
   ]
  },
  {
   "cell_type": "code",
   "execution_count": 49,
   "id": "417ef96a",
   "metadata": {},
   "outputs": [],
   "source": [
    "from langchain_openai import ChatOpenAI\n",
    "from settings import env_settings"
   ]
  },
  {
   "cell_type": "code",
   "execution_count": 50,
   "id": "607aea28",
   "metadata": {},
   "outputs": [],
   "source": [
    "llm = ChatOpenAI(\n",
    "    model=\"gpt-4o\",\n",
    "    api_key=env_settings.OPENAI_API_KEY\n",
    ")"
   ]
  },
  {
   "cell_type": "code",
   "execution_count": 51,
   "id": "425a939b",
   "metadata": {},
   "outputs": [],
   "source": [
    "summary_response = await llm.ainvoke(summary_prompt)\n",
    "summary_text = summary_response.content"
   ]
  },
  {
   "cell_type": "code",
   "execution_count": 52,
   "id": "eeacc892",
   "metadata": {},
   "outputs": [],
   "source": [
    "from gtts import gTTS\n",
    "from google.cloud import texttospeech"
   ]
  },
  {
   "cell_type": "code",
   "execution_count": 53,
   "id": "c1498db2",
   "metadata": {},
   "outputs": [
    {
     "name": "stdout",
     "output_type": "stream",
     "text": [
      "Audio content written to file \"output.mp3\"\n"
     ]
    }
   ],
   "source": [
    "client = texttospeech.TextToSpeechClient()\n",
    "synthesis_input = texttospeech.SynthesisInput(text=summary_text)\n",
    "voice = texttospeech.VoiceSelectionParams(\n",
    "    language_code=\"en-US\", ssml_gender=texttospeech.SsmlVoiceGender.NEUTRAL, name=\"en-US-Chirp3-HD-Charon\",\n",
    ")\n",
    "audio_config = texttospeech.AudioConfig(\n",
    "    audio_encoding=texttospeech.AudioEncoding.MP3\n",
    ")\n",
    "response = client.synthesize_speech(\n",
    "    input=synthesis_input, voice=voice, audio_config=audio_config\n",
    ")\n",
    "with open(\"output.mp3\", \"wb\") as out:\n",
    "    out.write(response.audio_content)\n",
    "    print('Audio content written to file \"output.mp3\"')"
   ]
  },
  {
   "cell_type": "code",
   "execution_count": null,
   "id": "6e80f385",
   "metadata": {},
   "outputs": [],
   "source": []
  }
 ],
 "metadata": {
  "kernelspec": {
   "display_name": "env",
   "language": "python",
   "name": "python3"
  },
  "language_info": {
   "codemirror_mode": {
    "name": "ipython",
    "version": 3
   },
   "file_extension": ".py",
   "mimetype": "text/x-python",
   "name": "python",
   "nbconvert_exporter": "python",
   "pygments_lexer": "ipython3",
   "version": "3.12.3"
  }
 },
 "nbformat": 4,
 "nbformat_minor": 5
}
