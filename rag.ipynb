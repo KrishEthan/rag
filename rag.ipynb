{
 "cells": [
  {
   "cell_type": "code",
   "execution_count": 2,
   "id": "446993c7",
   "metadata": {},
   "outputs": [
    {
     "name": "stderr",
     "output_type": "stream",
     "text": [
      "k:\\EthanAI\\ethan-ai-rag\\env\\Lib\\site-packages\\tqdm\\auto.py:21: TqdmWarning: IProgress not found. Please update jupyter and ipywidgets. See https://ipywidgets.readthedocs.io/en/stable/user_install.html\n",
      "  from .autonotebook import tqdm as notebook_tqdm\n"
     ]
    }
   ],
   "source": [
    "import os\n",
    "import logging\n",
    "from langchain.text_splitter import CharacterTextSplitter\n",
    "from langchain_openai.embeddings import OpenAIEmbeddings\n",
    "from langchain_core.documents import Document\n",
    "from google.cloud import documentai_v1beta3 as documentai\n",
    "from qdrant_client import QdrantClient, models\n",
    "from settings import env_settings\n",
    "from dotenv import load_dotenv\n",
    "\n",
    "load_dotenv()\n",
    "\n",
    "\n",
    "logger = logging.getLogger(__name__)\n",
    "\n",
    "QDRANT_URL = env_settings.QDRANT_URL\n",
    "QDRANT_API_KEY = env_settings.QDRANT_API_KEY\n",
    "OPENAI_API_KEY = env_settings.OPENAI_API_KEY\n",
    "GCP_PROJECT_ID = env_settings.GCP_PROJECT_ID\n",
    "GCP_LOCATION = env_settings.GCP_LOCATION\n",
    "GCP_PROCESSOR_ID = env_settings.GCP_PROCESSOR_ID\n",
    "GCP_PROCESSOR_VERSION = env_settings.GCP_PROCESSOR_VERSION\n",
    "\n",
    "os.environ[\"GOOGLE_APPLICATION_CREDENTIALS\"] = env_settings.GOOGLE_APPLICATION_CREDENTIALS\n",
    "\n",
    "\n",
    "class EthanRAG:\n",
    "    _qdrant_client: QdrantClient = None\n",
    "\n",
    "    def __init__(self):\n",
    "        if EthanRAG._qdrant_client is None:\n",
    "            EthanRAG._qdrant_client = self.connect_qdrant()\n",
    "\n",
    "    @staticmethod\n",
    "    def connect_qdrant() -> QdrantClient:\n",
    "        return QdrantClient(\n",
    "            api_key=QDRANT_API_KEY,\n",
    "            url=QDRANT_URL,\n",
    "        )\n",
    "\n",
    "    @staticmethod\n",
    "    async def extract_text_from_pdf(file_path: str) -> str:\n",
    "        try:\n",
    "            logger.info(f\"Processing with Google Document AI: {file_path}\")\n",
    "            client = documentai.DocumentProcessorServiceClient()\n",
    "            name = client.processor_version_path(\n",
    "                GCP_PROJECT_ID, GCP_LOCATION, GCP_PROCESSOR_ID, GCP_PROCESSOR_VERSION\n",
    "            )\n",
    "            with open(file_path, \"rb\") as pdf_file:\n",
    "                raw_document = documentai.RawDocument(\n",
    "                    content=pdf_file.read(), mime_type=\"application/pdf\"\n",
    "                )\n",
    "            request = documentai.ProcessRequest(\n",
    "                name=name,\n",
    "                raw_document=raw_document,\n",
    "                process_options=documentai.ProcessOptions(\n",
    "                    ocr_config=documentai.OcrConfig(\n",
    "                        enable_native_pdf_parsing=True)\n",
    "                ),\n",
    "            )\n",
    "            result = client.process_document(request=request)\n",
    "            document = result.document\n",
    "            extracted_text = document.text\n",
    "            return extracted_text\n",
    "        except Exception as e:\n",
    "            logger.error(f\"Error extracting text from PDF: {e}\")\n",
    "            raise e"
   ]
  },
  {
   "cell_type": "code",
   "execution_count": 3,
   "id": "ed3e7bf9",
   "metadata": {},
   "outputs": [],
   "source": [
    "ethan_rag = EthanRAG()\n",
    "\n",
    "text = await ethan_rag.extract_text_from_pdf(\n",
    "    file_path=\"K:\\\\EthanAI\\\\ethan-ai-rag\\\\uploads\\\\bala_monthly_report_dec_24-1-5.pdf\",\n",
    ")"
   ]
  },
  {
   "cell_type": "code",
   "execution_count": 9,
   "id": "1e8df4a6",
   "metadata": {},
   "outputs": [],
   "source": [
    "from llama_index.core.node_parser import SentenceWindowNodeParser\n",
    "from llama_index.core import Document"
   ]
  },
  {
   "cell_type": "code",
   "execution_count": 10,
   "id": "3781d5fa",
   "metadata": {},
   "outputs": [],
   "source": [
    "documents = [Document(text=text, metadata={\"filename\": \"bala_monthly_report_dec_24-1-5.pdf\"})]"
   ]
  },
  {
   "cell_type": "code",
   "execution_count": 6,
   "id": "8ec17fee",
   "metadata": {},
   "outputs": [],
   "source": [
    "node_parser = SentenceWindowNodeParser.from_defaults(window_size=3, window_metadata_key=\"window\")"
   ]
  },
  {
   "cell_type": "code",
   "execution_count": 11,
   "id": "6b57db36",
   "metadata": {},
   "outputs": [],
   "source": [
    "nodes = node_parser.get_nodes_from_documents(documents)"
   ]
  },
  {
   "cell_type": "code",
   "execution_count": 40,
   "id": "457e08e5",
   "metadata": {},
   "outputs": [],
   "source": [
    "final_response = \"\"\"\n",
    "Final Plan to Assess the Impact of Current Tariffs on US Companies\n",
    "Steps Completed:\n",
    "Understand the Objective: Clarified the user's question about the impact of tariffs from the Trump administration on U.S. companies.\n",
    "Research Current Tariffs: Identified tariffs still in effect, including those on solar panels, steel, aluminum, and Chinese goods.\n",
    "Identify Affected Industries: Recognized key industries impacted by these tariffs, such as technology, automotive, manufacturing, solar energy, and consumer electronics.\n",
    "Analyze Financial Reports: Reviewed financial metrics of major companies in affected industries, focusing on revenue, profit margins, and cost structures.\n",
    "Remaining Steps:\n",
    "Summarize Findings: Compile a comprehensive summary of the impact of tariffs on U.S. companies, highlighting key insights from the financial analysis and industry research.\n",
    "Final Summary:\n",
    "The tariffs imposed during the Trump administration, which remain in effect, continue to impact several key industries in the United States. These include the technology, automotive, manufacturing, solar energy, and consumer electronics sectors.\n",
    "Technology Industry: Companies like Apple have shown resilience with strong profit margins despite increased costs from tariffs on Chinese electronics.\n",
    "Automotive Industry: Tesla faces challenges with earnings and free cash flow, likely due to tariffs on steel and aluminum, which increase production costs.\n",
    "Manufacturing and Solar Energy: Companies in these sectors, such as Ford and SunPower, are also affected by tariffs, impacting their cost structures and competitiveness.\n",
    "Overall, while some companies have managed to maintain growth and profitability, others face significant financial pressures due to increased costs and supply chain disruptions. The ongoing tariffs continue to shape the strategic decisions and financial health of U.S. companies across these industries.\n",
    "This analysis provides a clear understanding of the current economic landscape for U.S. companies affected by tariffs, offering insights into their financial performance and strategic challenges.\n",
    "\"\"\""
   ]
  },
  {
   "cell_type": "code",
   "execution_count": 41,
   "id": "db761593",
   "metadata": {},
   "outputs": [],
   "source": [
    "summary_prompt = f\"\"\"\n",
    "You are a podcast host summarizing a recent analysis. Create a concise, engaging summary (2-3 sentences) \n",
    "of the following content for a podcast audience. Use a friendly and conversational tone, \n",
    "and avoid technical jargon unless necessary also add some anecdotes or examples to make it funny and relatable: \n",
    "\n",
    "{final_response}\n",
    "\n",
    "Summary:\n",
    "\"\"\""
   ]
  },
  {
   "cell_type": "code",
   "execution_count": 42,
   "id": "417ef96a",
   "metadata": {},
   "outputs": [],
   "source": [
    "from langchain_openai import ChatOpenAI\n",
    "from settings import env_settings"
   ]
  },
  {
   "cell_type": "code",
   "execution_count": 43,
   "id": "607aea28",
   "metadata": {},
   "outputs": [],
   "source": [
    "llm = ChatOpenAI(\n",
    "    model=\"gpt-4o\",\n",
    "    api_key=env_settings.OPENAI_API_KEY\n",
    ")"
   ]
  },
  {
   "cell_type": "code",
   "execution_count": 44,
   "id": "425a939b",
   "metadata": {},
   "outputs": [],
   "source": [
    "summary_response = await llm.ainvoke(summary_prompt)\n",
    "summary_text = summary_response.content"
   ]
  },
  {
   "cell_type": "code",
   "execution_count": 45,
   "id": "eeacc892",
   "metadata": {},
   "outputs": [],
   "source": [
    "from gtts import gTTS\n",
    "from google.cloud import texttospeech"
   ]
  },
  {
   "cell_type": "code",
   "execution_count": 46,
   "id": "c1498db2",
   "metadata": {},
   "outputs": [
    {
     "name": "stdout",
     "output_type": "stream",
     "text": [
      "Audio content written to file \"output.mp3\"\n"
     ]
    }
   ],
   "source": [
    "client = texttospeech.TextToSpeechClient()\n",
    "synthesis_input = texttospeech.SynthesisInput(text=summary_text)\n",
    "voice = texttospeech.VoiceSelectionParams(\n",
    "    language_code=\"en-US\", ssml_gender=texttospeech.SsmlVoiceGender.NEUTRAL, name=\"en-US-Chirp3-HD-Charon\",\n",
    ")\n",
    "audio_config = texttospeech.AudioConfig(\n",
    "    audio_encoding=texttospeech.AudioEncoding.MP3\n",
    ")\n",
    "response = client.synthesize_speech(\n",
    "    input=synthesis_input, voice=voice, audio_config=audio_config\n",
    ")\n",
    "with open(\"output.mp3\", \"wb\") as out:\n",
    "    out.write(response.audio_content)\n",
    "    print('Audio content written to file \"output.mp3\"')"
   ]
  },
  {
   "cell_type": "code",
   "execution_count": null,
   "id": "6e80f385",
   "metadata": {},
   "outputs": [],
   "source": []
  }
 ],
 "metadata": {
  "kernelspec": {
   "display_name": "env",
   "language": "python",
   "name": "python3"
  },
  "language_info": {
   "codemirror_mode": {
    "name": "ipython",
    "version": 3
   },
   "file_extension": ".py",
   "mimetype": "text/x-python",
   "name": "python",
   "nbconvert_exporter": "python",
   "pygments_lexer": "ipython3",
   "version": "3.12.3"
  }
 },
 "nbformat": 4,
 "nbformat_minor": 5
}
